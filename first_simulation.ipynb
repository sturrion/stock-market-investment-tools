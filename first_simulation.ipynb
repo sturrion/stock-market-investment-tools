{
 "cells": [
  {
   "cell_type": "markdown",
   "metadata": {},
   "source": [
    "### What if we buy a share every day at the highest price?"
   ]
  },
  {
   "cell_type": "code",
   "execution_count": null,
   "metadata": {},
   "outputs": [],
   "source": [
    "import pandas as pd\n",
    "\n",
    "%matplotlib inline\n",
    "import matplotlib.pyplot as plt"
   ]
  },
  {
   "cell_type": "code",
   "execution_count": null,
   "metadata": {},
   "outputs": [],
   "source": [
    "symbols = ['ABBV','AAPL','ADBE','APD','BRK-B','COST','CTL','DRI','IRM','KIM','MA','MCD','NFLX','NVDA','SO','V','VLO']\n",
    "dates = ['2018-01-01', '2018-12-31']\n",
    "data_directory = './data/hist/'\n",
    "plot_directory = './plot/hist/'\n"
   ]
  },
  {
   "cell_type": "code",
   "execution_count": null,
   "metadata": {},
   "outputs": [],
   "source": [
    "def get_ticker_data(symbol, start_date, end_date):\n",
    "    ticker = pd.read_csv(data_directory + symbol + '.csv')\n",
    "    \n",
    "    ticker['Date'] = pd.to_datetime(ticker['Date'], format='%Y-%m-%d')\n",
    "    ticker = ticker[(ticker['Date'] >= pd.to_datetime(start_date, format='%Y-%m-%d')) \n",
    "                    & (ticker['Date'] <= pd.to_datetime(end_date, format='%Y-%m-%d'))]\n",
    "    \n",
    "    ticker['units'] = 1\n",
    "    # At the highest price\n",
    "    ticker['investment'] = ticker['units'] * ticker['High']\n",
    "    \n",
    "    ticker['total_units'] = ticker['units'].cumsum()\n",
    "    ticker['total_investment'] = ticker['investment'].cumsum()\n",
    "    # At the lowest price\n",
    "    ticker['total_value'] = ticker['total_units'] * ticker['Low']\n",
    "    \n",
    "    ticker['percent'] = ((ticker['total_value'] - ticker['total_investment'])/ ticker['total_investment']) * 100.0\n",
    "    \n",
    "    return ticker\n"
   ]
  },
  {
   "cell_type": "code",
   "execution_count": null,
   "metadata": {},
   "outputs": [],
   "source": [
    "def get_ticker_data_adj(symbol, start_date, end_date):\n",
    "    ticker = pd.read_csv(data_directory + symbol + '.csv')\n",
    "    \n",
    "    ticker['Date'] = pd.to_datetime(ticker['Date'], format='%Y-%m-%d')\n",
    "    ticker = ticker[(ticker['Date'] >= pd.to_datetime(start_date, format='%Y-%m-%d')) \n",
    "                    & (ticker['Date'] <= pd.to_datetime(end_date, format='%Y-%m-%d'))]\n",
    "    \n",
    "    ticker['units'] = 1\n",
    "    ticker['investment'] = ticker['units'] * ticker['Adj Close']\n",
    "    \n",
    "    ticker['total_units'] = ticker['units'].cumsum()\n",
    "    ticker['total_investment'] = ticker['investment'].cumsum()\n",
    "    ticker['total_value'] = ticker['total_units'] * ticker['Adj Close']\n",
    "    \n",
    "    ticker['percent'] = ((ticker['total_value'] - ticker['total_investment'])/ ticker['total_investment']) * 100.0\n",
    "    \n",
    "    return ticker"
   ]
  },
  {
   "cell_type": "code",
   "execution_count": null,
   "metadata": {},
   "outputs": [],
   "source": [
    "for symbol in symbols:\n",
    "\n",
    "    ticker = get_ticker_data(symbol, *dates)\n",
    "    \n",
    "    fig = plt.figure(figsize=(8, 6), dpi=80, facecolor='w', edgecolor='k')\n",
    "    # 1\n",
    "    plt.subplot(2, 1, 1)\n",
    "    plt.plot(ticker['Date'], ticker['total_investment'], color='b')\n",
    "    plt.plot(ticker['Date'], ticker['total_value'], color='r')\n",
    "    plt.title(symbol + ' Dates: ' + dates[0] + ' to ' + dates[1])\n",
    "    plt.ylabel('Values')\n",
    "\n",
    "    # 2\n",
    "    plt.subplot(2, 1, 2)\n",
    "    plt.plot(ticker['Date'], ticker['percent'], color='b')\n",
    "    plt.xlabel('Dates')\n",
    "    plt.ylabel('Percent')\n",
    "\n",
    "    plt.show()\n",
    "\n",
    "    #fig.savefig(plot_directory + symbol + '.pdf', bbox_inches='tight')\n"
   ]
  },
  {
   "cell_type": "code",
   "execution_count": null,
   "metadata": {},
   "outputs": [],
   "source": [
    "plt.figure(num=None, figsize=(8, 6), dpi=80, facecolor='w', edgecolor='k')\n",
    "    \n",
    "for symbol in symbols:\n",
    "\n",
    "    ticker = get_ticker_data(symbol, *dates)\n",
    "    \n",
    "    plt.plot(ticker['Date'], ticker['percent'])\n",
    "    plt.xlabel('Dates')\n",
    "    plt.ylabel('Percent')\n",
    "\n",
    "plt.legend(symbols)\n",
    "plt.show()"
   ]
  },
  {
   "cell_type": "code",
   "execution_count": null,
   "metadata": {},
   "outputs": [],
   "source": [
    "fig, axs = plt.subplots(len(symbols), 1, sharex=True)\n",
    "# Remove horizontal space between axes\n",
    "fig.subplots_adjust(hspace=0)\n",
    "\n",
    "for i in range(0, len(symbols)):\n",
    "\n",
    "    ticker = get_ticker_data(symbols[i], *dates)\n",
    "    \n",
    "    # Plot each graph, and manually set the y tick values\n",
    "    axs[i].plot(ticker['Date'], ticker['percent'])\n",
    "    axs[i].set_ylim(-200, 800)\n",
    "    axs[i].legend([symbols[i]])\n",
    "    \n",
    "print(type(axs[i]))"
   ]
  },
  {
   "cell_type": "code",
   "execution_count": null,
   "metadata": {},
   "outputs": [],
   "source": []
  }
 ],
 "metadata": {
  "kernelspec": {
   "display_name": "Python 3",
   "language": "python",
   "name": "python3"
  },
  "language_info": {
   "codemirror_mode": {
    "name": "ipython",
    "version": 3
   },
   "file_extension": ".py",
   "mimetype": "text/x-python",
   "name": "python",
   "nbconvert_exporter": "python",
   "pygments_lexer": "ipython3",
   "version": "3.6.7"
  }
 },
 "nbformat": 4,
 "nbformat_minor": 2
}
