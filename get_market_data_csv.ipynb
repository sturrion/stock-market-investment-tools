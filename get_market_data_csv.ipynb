{
 "cells": [
  {
   "cell_type": "code",
   "execution_count": null,
   "metadata": {},
   "outputs": [],
   "source": [
    "import pandas as pd\n",
    "import numpy as np\n",
    "import json\n",
    "import requests"
   ]
  },
  {
   "cell_type": "code",
   "execution_count": null,
   "metadata": {},
   "outputs": [],
   "source": [
    "# Get Symbols\n",
    "def get_df_symbols():\n",
    "    # DOW Symbols\n",
    "    dow_list = pd.read_csv('./data/dow.csv', sep=';')\n",
    "    dow_list.set_index('Symbol', inplace=True)\n",
    "    dow_list['DOW'] = True\n",
    "\n",
    "    # S&P 500 Symbols\n",
    "    sp_list = pd.read_csv('./data/sp500.csv', sep=';')\n",
    "    sp_list.set_index('Symbol', inplace=True)\n",
    "    sp_list['SP'] = True\n",
    "\n",
    "    # NASDAQ 100 Symbols\n",
    "    n100_list = pd.read_csv('./data/nasdaq100.csv', sep=',')\n",
    "    n100_list.set_index('Symbol', inplace=True)\n",
    "    n100_list['N100'] = True\n",
    "    \n",
    "    symbols_list = pd.merge(sp_list, dow_list, on='Symbol', how='outer')\n",
    "    symbols_list = pd.merge(symbols_list, n100_list, on='Symbol', how='outer')\n",
    "    \n",
    "    symbols_list['DOW'] = np.where(symbols_list['DOW'].isna(), False, True)\n",
    "    symbols_list['SP'] = np.where(symbols_list['SP'].isna(), False, True)\n",
    "    symbols_list['N100'] = np.where(symbols_list['N100'].isna(), False, True)\n",
    "    \n",
    "    symbols_list['Company'] = np.where(symbols_list['DOW'] == True, \n",
    "                                       symbols_list['Company Name'], \n",
    "                                       np.where((symbols_list['DOW'] == False) & (symbols_list['SP'] == True), \n",
    "                                                symbols_list['Company_x'], \n",
    "                                                np.where((symbols_list['DOW'] == False) & (symbols_list['SP'] != True), \n",
    "                                                         symbols_list['Company_y'], ' ')))\n",
    "        \n",
    "    symbols_list = symbols_list[['Company', 'DOW', 'SP', 'N100']]\n",
    "    \n",
    "    return symbols_list\n"
   ]
  },
  {
   "cell_type": "code",
   "execution_count": null,
   "metadata": {},
   "outputs": [],
   "source": [
    "def get_companies_data(symbols_df):\n",
    "    names = []\n",
    "    exchanges = []\n",
    "    industries = []\n",
    "    sectors = []\n",
    "    tags = []\n",
    "    \n",
    "    print('Get companies data')\n",
    "    for index, row in symbols_df.iterrows():\n",
    "        url = 'https://api.iextrading.com/1.0/stock/' + index + '/company'\n",
    "        response = requests.get(url)\n",
    "        info = json.loads(response.text)\n",
    "        names.append(info['companyName'])\n",
    "        exchanges.append(info['exchange'])\n",
    "        industries.append(info['industry'])\n",
    "        sectors.append(info['sector'])\n",
    "        tags.append(info['tags'])\n",
    "    \n",
    "    symbols_df['Company Name'] = names\n",
    "    symbols_df['Exchange'] = exchanges\n",
    "    symbols_df['Industry'] = industries\n",
    "    symbols_df['Sector'] = sectors\n",
    "    symbols_df['Tags'] = tags\n",
    "    \n",
    "    return symbols_df"
   ]
  },
  {
   "cell_type": "code",
   "execution_count": null,
   "metadata": {},
   "outputs": [],
   "source": [
    "def get_stats_data(symbols_df):\n",
    "    all_stats = pd.DataFrame() #creates a new dataframe that's empty\n",
    "    \n",
    "    print('Get stats')\n",
    "    for index, row in symbols_df.iterrows():\n",
    "        url = 'https://api.iextrading.com/1.0/stock/' + index + '/stats?displayPercent=true'\n",
    "        response = requests.get(url)\n",
    "        info = json.loads(response.text)\n",
    "\n",
    "        df = pd.io.json.json_normalize(info)\n",
    "        df['Symbol'] = index\n",
    "    \n",
    "        all_stats = all_stats.append(df, ignore_index = True) \n",
    "\n",
    "    all_stats.set_index('Symbol', inplace=True)\n",
    "    symbols_list = pd.merge(symbols_df, all_stats, on='Symbol', how='left')\n",
    "        \n",
    "    return symbols_list\n",
    "    "
   ]
  },
  {
   "cell_type": "code",
   "execution_count": null,
   "metadata": {},
   "outputs": [],
   "source": [
    "def get_prices(symbols_df):\n",
    "    \n",
    "    prices = []\n",
    "    \n",
    "    print('Prices')\n",
    "    for index, row in symbols_df.iterrows():\n",
    "        url = 'https://api.iextrading.com/1.0/stock/' + index + '/price'\n",
    "        response = requests.get(url)\n",
    "        prices.append(float(response.text))\n",
    "        \n",
    "    symbols_df['Price'] = prices\n",
    "        \n",
    "    return symbols_df\n",
    "    "
   ]
  },
  {
   "cell_type": "code",
   "execution_count": null,
   "metadata": {},
   "outputs": [],
   "source": [
    "# To get all data from IEX\n",
    "stocks_list = get_df_symbols()\n",
    "stocks_list = get_companies_data(stocks_list.copy())\n",
    "stocks_list = get_stats_data(stocks_list.copy())\n",
    "stocks_list = get_prices(stocks_list.copy())\n",
    "stocks_list.to_csv('./data/stocks.csv', sep=';')\n",
    "\n",
    "writer = pd.ExcelWriter('./data/stocks.xlsx')\n",
    "stocks_list.to_excel(writer,'Companies')\n",
    "writer.save()\n"
   ]
  },
  {
   "cell_type": "code",
   "execution_count": null,
   "metadata": {},
   "outputs": [],
   "source": []
  }
 ],
 "metadata": {
  "kernelspec": {
   "display_name": "Python 3",
   "language": "python",
   "name": "python3"
  },
  "language_info": {
   "codemirror_mode": {
    "name": "ipython",
    "version": 3
   },
   "file_extension": ".py",
   "mimetype": "text/x-python",
   "name": "python",
   "nbconvert_exporter": "python",
   "pygments_lexer": "ipython3",
   "version": "3.6.7"
  }
 },
 "nbformat": 4,
 "nbformat_minor": 2
}
